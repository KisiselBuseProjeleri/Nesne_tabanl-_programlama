{
 "cells": [
  {
   "cell_type": "markdown",
   "metadata": {},
   "source": [
    "#Nesne Tabanlı Programlama Mantığı\n"
   ]
  },
  {
   "cell_type": "markdown",
   "metadata": {},
   "source": [
    "Bu konuyla beraber nesne tabanlı programlamaya giriş yapıyoruz ve bu konuda biraz nesne tabanlı programlam hakkında konuşacağız. Nesne taalı programlama ingilizce ismiyle **object oriented programing** en basit anlamıyla gerçek hayat programlamya uyarlamak için düşünülebilir. Örneğin bir öğrenci otomasyon sistemi yazmak istiyoruz. Bunun için öğretmenleri öğrencileri ve kursları aslında birer nesne olarak oluşturmamız gerekiyor. Böyle bir sistmi programlamaya gerçkleştrimek için aslında her nesnenin yapısını tanımlayıp nesneler üretmemiz gerekiyor . İste nesne tabanlı programlama e basit anlamıyla bu şekildedir. Şimdi obje veya nesne nedir anlamaya çalışalım."
   ]
  },
  {
   "cell_type": "markdown",
   "metadata": {},
   "source": [
    "#OBJE NEDİR"
   ]
  },
  {
   "cell_type": "markdown",
   "metadata": {},
   "source": [
    "Etrafımıza baktığımızda aslında her şeyin bir eşyanın objesi olduğunu görüyoruz. Öreğin bir tane televizyon kumamdasını düşünelim. Bu kumandanın kendi değişik özellikleri (attribute) ve fonk (method) bulunuyor. Örneğin kumandanın markası, tuşları aslında bu kumandanın özelliklerindendir(attributes). Kumandanın kırmızı tuşuna bastığımızda televizyonun kapanması ve ses kapatma tuşuna bastığımızda sesin kısılması bu kumandanın methodlarıdır. Bunun gibi Pythondaki aslında her şey bir objedir. Örneğin listelere bakacak olursak bu liste objenin bir methodu ve özelliği bulunur."
   ]
  },
  {
   "cell_type": "code",
   "execution_count": 1,
   "metadata": {},
   "outputs": [],
   "source": [
    "liste = [1,2,3,4,5]#liste oluşturduk"
   ]
  },
  {
   "cell_type": "code",
   "execution_count": 2,
   "metadata": {},
   "outputs": [
    {
     "name": "stdout",
     "output_type": "stream",
     "text": [
      "[1, 2, 3, 4, 5, 6]\n"
     ]
    }
   ],
   "source": [
    "liste.append(6) #Append Methodu\n",
    "print(liste)"
   ]
  },
  {
   "cell_type": "code",
   "execution_count": 3,
   "metadata": {},
   "outputs": [
    {
     "name": "stdout",
     "output_type": "stream",
     "text": [
      "<class 'list'>\n"
     ]
    }
   ],
   "source": [
    "print(type(liste))"
   ]
  },
  {
   "cell_type": "code",
   "execution_count": 4,
   "metadata": {},
   "outputs": [
    {
     "name": "stdout",
     "output_type": "stream",
     "text": [
      "<class 'dict'>\n"
     ]
    }
   ],
   "source": [
    "sözlük = dict() # dict classınından sözlük isimli bir nesne oluşturduk\n",
    "print(type(sözlük))"
   ]
  },
  {
   "cell_type": "code",
   "execution_count": 8,
   "metadata": {},
   "outputs": [],
   "source": [
    "def toplama(a,b):\n",
    "    return a + b"
   ]
  },
  {
   "cell_type": "code",
   "execution_count": 9,
   "metadata": {},
   "outputs": [
    {
     "name": "stdout",
     "output_type": "stream",
     "text": [
      "<class 'function'>\n"
     ]
    }
   ],
   "source": [
    "print(type(toplama)) # function classınından toplama isimli bir nesne oluşturdum"
   ]
  },
  {
   "cell_type": "markdown",
   "metadata": {},
   "source": [
    "Şimdi kendi sınıfımızı ve nesnelerimizi oluşturalım."
   ]
  },
  {
   "cell_type": "code",
   "execution_count": null,
   "metadata": {},
   "outputs": [],
   "source": []
  }
 ],
 "metadata": {
  "kernelspec": {
   "display_name": "sanal_ortam",
   "language": "python",
   "name": "python3"
  },
  "language_info": {
   "codemirror_mode": {
    "name": "ipython",
    "version": 3
   },
   "file_extension": ".py",
   "mimetype": "text/x-python",
   "name": "python",
   "nbconvert_exporter": "python",
   "pygments_lexer": "ipython3",
   "version": "3.12.1"
  }
 },
 "nbformat": 4,
 "nbformat_minor": 2
}
