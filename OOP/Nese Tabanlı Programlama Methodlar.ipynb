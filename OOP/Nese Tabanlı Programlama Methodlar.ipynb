{
 "cells": [
  {
   "cell_type": "markdown",
   "metadata": {},
   "source": [
    "# Nesne Tabanlı Programlama -Methodlar\n"
   ]
  },
  {
   "cell_type": "markdown",
   "metadata": {},
   "source": [
    "Bu konuda bir sınıf içerisinde methodlarımızı nasıl tanımlayacağımızı öğrnmee çalışacağız. Bunu için ilk olarak bir yazlımcı Sınıfı tanımlayalım"
   ]
  },
  {
   "cell_type": "code",
   "execution_count": 1,
   "metadata": {},
   "outputs": [],
   "source": [
    "class Yazılımcı():\n",
    "    def __init__(self,isim,soyisim,numara,maaş,diller):\n",
    "        self.isim = isim\n",
    "        self.soyisim = soyisim\n",
    "        self.numara = numara \n",
    "        self.maaş = maaş\n",
    "        self.diller = diller"
   ]
  },
  {
   "cell_type": "code",
   "execution_count": 2,
   "metadata": {},
   "outputs": [],
   "source": [
    "#yazılımcı objesi\n",
    "yazilimci1 = Yazılımcı('Yunus Emre', 'Kayış', 12345, 30000, ['Python','Java'])"
   ]
  },
  {
   "cell_type": "code",
   "execution_count": 3,
   "metadata": {},
   "outputs": [],
   "source": [
    "yazilimci2 = Yazılımcı('Mert', 'Bozkurt', 2345, 35000, ['Matlab', 'R', 'C'])"
   ]
  },
  {
   "cell_type": "code",
   "execution_count": 5,
   "metadata": {},
   "outputs": [
    {
     "data": {
      "text/plain": [
       "['Python', 'Java']"
      ]
     },
     "execution_count": 5,
     "metadata": {},
     "output_type": "execute_result"
    }
   ],
   "source": [
    "yazilimci1.diller"
   ]
  },
  {
   "cell_type": "code",
   "execution_count": 6,
   "metadata": {},
   "outputs": [
    {
     "data": {
      "text/plain": [
       "'Bozkurt'"
      ]
     },
     "execution_count": 6,
     "metadata": {},
     "output_type": "execute_result"
    }
   ],
   "source": [
    "yazilimci2.soyisim"
   ]
  },
  {
   "cell_type": "markdown",
   "metadata": {},
   "source": [
    "Önceki konuda buların nasıl yapıldığını biliyoruz. Peki bu class'a methodlarımızı nasıl tanımlayabiliriz. Aynı init methodunu tanımladığımız gibi bir class' istediğimiz kadar method tanımlayabiliriz Öreneğin Yazılımcı classına bilgilerigöster isimli method tanımlayalım."
   ]
  },
  {
   "cell_type": "code",
   "execution_count": 7,
   "metadata": {},
   "outputs": [],
   "source": [
    "class Yazılımcı():\n",
    "    def __init__(self,isim,soyisim,numara,maaş,diller):\n",
    "        self.isim = isim\n",
    "        self.soyisim = soyisim\n",
    "        self.numara = numara \n",
    "        self.maaş = maaş\n",
    "        self.diller = diller\n",
    "\n",
    "    def bilgileriGoster(self):\n",
    "        print(f\"\"\"\"\n",
    "              Çalışan Bilgisi:\n",
    "              İsim: {self.isim}\n",
    "              Soyisim: {self.soyisim}\n",
    "              Şirket Numarası: {self.numara}\n",
    "              Maaş: {self.maaş}\n",
    "              Diller: {self.diller}\n",
    "              \"\"\")"
   ]
  },
  {
   "cell_type": "code",
   "execution_count": 8,
   "metadata": {},
   "outputs": [],
   "source": [
    "yazılımcı1 = Yazılımcı('Burak','Oyuncu',12345,30000,['Python','Css','HTML'])"
   ]
  },
  {
   "cell_type": "code",
   "execution_count": 9,
   "metadata": {},
   "outputs": [
    {
     "name": "stdout",
     "output_type": "stream",
     "text": [
      "\"\n",
      "              Çalışan Bilgisi:\n",
      "              İsim: Burak\n",
      "              Soyisim: Oyuncu\n",
      "              Şirket Numarası: 12345\n",
      "              Maaş: 30000\n",
      "              Diller: ['Python', 'Css', 'HTML']\n",
      "              \n"
     ]
    }
   ],
   "source": [
    "yazılımcı1.bilgileriGoster()"
   ]
  },
  {
   "cell_type": "markdown",
   "metadata": {},
   "source": [
    "Burada bilgileriGöster isimli method tanımlayarak her bir özelliklerinin değerini ekrana derli toplu bir şekilde yazdırmış olduk. "
   ]
  },
  {
   "cell_type": "code",
   "execution_count": 10,
   "metadata": {},
   "outputs": [],
   "source": [
    "class Yazılımcı():\n",
    "    def __init__(self,isim,soyisim,numara,maaş,diller):\n",
    "        self.isim = isim\n",
    "        self.soyisim = soyisim\n",
    "        self.numara = numara \n",
    "        self.maaş = maaş\n",
    "        self.diller = diller\n",
    "\n",
    "    def bilgileriGoster(self):\n",
    "        print(f\"\"\"\"\n",
    "              Çalışan Bilgisi:\n",
    "              İsim: {self.isim}\n",
    "              Soyisim: {self.soyisim}\n",
    "              Şirket Numarası: {self.numara}\n",
    "              Maaş: {self.maaş}\n",
    "              Diller: {self.diller}\n",
    "              \"\"\")\n",
    "    def dil_ekle(self, yeni_dil):\n",
    "        print('Dil Ekleniyor')\n",
    "        self.diller.append(yeni_dil)\n",
    "\n",
    "    def maas_yukselt(self,zam_miktarı):\n",
    "        print('Maaş Yükseltiliyor')\n",
    "        self.maaş += zam_miktarı"
   ]
  },
  {
   "cell_type": "code",
   "execution_count": 11,
   "metadata": {},
   "outputs": [],
   "source": [
    "yazilimci1 = Yazılımcı('Zeynep', 'Doğan', 12344, 30000, ['Python', 'Java'])"
   ]
  },
  {
   "cell_type": "code",
   "execution_count": 12,
   "metadata": {},
   "outputs": [
    {
     "name": "stdout",
     "output_type": "stream",
     "text": [
      "\"\n",
      "              Çalışan Bilgisi:\n",
      "              İsim: Zeynep\n",
      "              Soyisim: Doğan\n",
      "              Şirket Numarası: 12344\n",
      "              Maaş: 30000\n",
      "              Diller: ['Python', 'Java']\n",
      "              \n"
     ]
    }
   ],
   "source": [
    "yazilimci1.bilgileriGoster()"
   ]
  },
  {
   "cell_type": "code",
   "execution_count": 13,
   "metadata": {},
   "outputs": [
    {
     "name": "stdout",
     "output_type": "stream",
     "text": [
      "Dil Ekleniyor\n"
     ]
    }
   ],
   "source": [
    "yazilimci1.dil_ekle('Java Script')"
   ]
  },
  {
   "cell_type": "code",
   "execution_count": 14,
   "metadata": {},
   "outputs": [
    {
     "name": "stdout",
     "output_type": "stream",
     "text": [
      "\"\n",
      "              Çalışan Bilgisi:\n",
      "              İsim: Zeynep\n",
      "              Soyisim: Doğan\n",
      "              Şirket Numarası: 12344\n",
      "              Maaş: 30000\n",
      "              Diller: ['Python', 'Java', 'Java Script']\n",
      "              \n"
     ]
    }
   ],
   "source": [
    "yazilimci1.bilgileriGoster()"
   ]
  },
  {
   "cell_type": "markdown",
   "metadata": {},
   "source": [
    "İşte bu kadar . Şimdi inheritance yani miras alma mantığına bakacağız."
   ]
  }
 ],
 "metadata": {
  "kernelspec": {
   "display_name": "sanal_ortam",
   "language": "python",
   "name": "python3"
  },
  "language_info": {
   "codemirror_mode": {
    "name": "ipython",
    "version": 3
   },
   "file_extension": ".py",
   "mimetype": "text/x-python",
   "name": "python",
   "nbconvert_exporter": "python",
   "pygments_lexer": "ipython3",
   "version": "3.12.1"
  }
 },
 "nbformat": 4,
 "nbformat_minor": 2
}
